{
 "cells": [
  {
   "cell_type": "code",
   "execution_count": 1,
   "id": "96deeded",
   "metadata": {},
   "outputs": [],
   "source": [
    "import pandas as pd\n",
    "import sqlite3\n",
    "\n",
    "conn = sqlite3.connect(\"/Users/Atabay/Desktop/SQLFiles Tier 2 2/sqlite_db_pythonsqlite.db\")"
   ]
  },
  {
   "cell_type": "code",
   "execution_count": 2,
   "id": "6d452591",
   "metadata": {},
   "outputs": [],
   "source": [
    "cur = conn.cursor()"
   ]
  },
  {
   "cell_type": "code",
   "execution_count": 3,
   "id": "f41c680d",
   "metadata": {},
   "outputs": [
    {
     "data": {
      "text/plain": [
       "<sqlite3.Cursor at 0x7f8208248110>"
      ]
     },
     "execution_count": 3,
     "metadata": {},
     "output_type": "execute_result"
    }
   ],
   "source": [
    "cur.execute(\"select * from Members limit 5;\")"
   ]
  },
  {
   "cell_type": "code",
   "execution_count": 4,
   "id": "cc07c3d6",
   "metadata": {
    "scrolled": true
   },
   "outputs": [
    {
     "name": "stdout",
     "output_type": "stream",
     "text": [
      "[(0, 'GUEST', 'GUEST', 'GUEST', 0, '(000) 000-0000', '', '2012-07-01 00:00:00'), (1, 'Smith', 'Darren', '8 Bloomsbury Close, Boston', 4321, '555-555-5555', '', '2012-07-02 12:02:05'), (2, 'Smith', 'Tracy', '8 Bloomsbury Close, New York', 4321, '555-555-5555', '', '2012-07-02 12:08:23'), (3, 'Rownam', 'Tim', '23 Highway Way, Boston', 23423, '(844) 693-0723', '', '2012-07-03 09:32:15'), (4, 'Joplette', 'Janice', '20 Crossing Road, New York', 234, '(833) 942-4710', '1', '2012-07-03 10:25:05')]\n"
     ]
    }
   ],
   "source": [
    "results = cur.fetchall()\n",
    "print(results)"
   ]
  },
  {
   "cell_type": "code",
   "execution_count": 5,
   "id": "ac949df0",
   "metadata": {},
   "outputs": [
    {
     "name": "stdout",
     "output_type": "stream",
     "text": [
      "('Pool Table', 270)\n",
      "('Snooker Table', 240)\n",
      "('Table Tennis', 180)\n"
     ]
    }
   ],
   "source": [
    "# Q10: Produce a list of facilities with a total revenue less than 1000.\n",
    "#The output of facility name and total revenue, sorted by revenue. Remember\n",
    "#that there's a different cost for guests and members!\n",
    "\n",
    "facility_rev = '''SELECT f.name, \n",
    "SUM(CASE WHEN m.firstname = 'GUEST' THEN (guestcost * slots)\n",
    "ELSE (membercost * slots) END) AS total_revenue \n",
    "\n",
    "FROM Bookings AS b\n",
    "    INNER JOIN Members AS m USING (memid)\n",
    "    INNER JOIN Facilities AS f USING (facid)\n",
    "GROUP BY f.name\n",
    "HAVING total_revenue < 1000'''\n",
    "\n",
    "cur.execute(facility_rev)\n",
    "results = cur.fetchall()\n",
    "\n",
    "for result in results:\n",
    "    print(result)"
   ]
  },
  {
   "cell_type": "code",
   "execution_count": 10,
   "id": "a84142a9",
   "metadata": {},
   "outputs": [
    {
     "name": "stdout",
     "output_type": "stream",
     "text": [
      "('Bader Florence', 'Stibbons Ponder')\n",
      "('Baker Timothy', 'Farrell Jemima')\n",
      "('Baker Anne', 'Stibbons Ponder')\n",
      "('Boothe Tim', 'Rownam Tim')\n",
      "('Butters Gerald', 'Smith Darren')\n",
      "('Coplin Joan', 'Baker Timothy')\n",
      "('Crumpet Erica', 'Smith Tracy')\n",
      "('Dare Nancy', 'Joplette Janice')\n",
      "('Genting Matthew', 'Butters Gerald')\n",
      "('Hunt John', 'Purview Millicent')\n",
      "('Jones Douglas', 'Jones David')\n",
      "('Jones David', 'Joplette Janice')\n",
      "('Joplette Janice', 'Smith Darren')\n",
      "('Mackenzie Anna', 'Smith Darren')\n",
      "('Owen Charles', 'Smith Darren')\n",
      "('Pinker David', 'Farrell Jemima')\n",
      "('Purview Millicent', 'Smith Tracy')\n",
      "('Rumney Henrietta', 'Genting Matthew')\n",
      "('Sarwin Ramnaresh', 'Bader Florence')\n",
      "('Smith Jack', 'Smith Darren')\n",
      "('Stibbons Ponder', 'Tracy Burton')\n",
      "('Worthington-Smyth Henry', 'Smith Tracy')\n"
     ]
    }
   ],
   "source": [
    "# Q11: Produce a report of members and who recommended them in alphabetic surname,firstname order\n",
    "members = '''SELECT m1.surname || ' ' || m1.firstname AS member_name, m2.surname || ' ' || m2.firstname AS recommended_name\n",
    "FROM Members AS m1\n",
    "INNER JOIN Members AS m2\n",
    "ON m1.recommendedby = m2.memid\n",
    "WHERE m2.surname != 'GUEST'\n",
    "ORDER BY m1.surname, m2.surname'''\n",
    "\n",
    "cur.execute(members)\n",
    "results = cur.fetchall()\n",
    "\n",
    "for result in results:\n",
    "    print(result)"
   ]
  },
  {
   "cell_type": "code",
   "execution_count": 12,
   "id": "4a389ff9",
   "metadata": {},
   "outputs": [
    {
     "name": "stdout",
     "output_type": "stream",
     "text": [
      "('Badminton Court', 344)\n",
      "('Massage Room 1', 421)\n",
      "('Massage Room 2', 27)\n",
      "('Pool Table', 783)\n",
      "('Snooker Table', 421)\n",
      "('Squash Court', 195)\n",
      "('Table Tennis', 385)\n",
      "('Tennis Court 1', 308)\n",
      "('Tennis Court 2', 276)\n"
     ]
    }
   ],
   "source": [
    "# Q12: Find the facilities with their usage by member, but not guests\n",
    "usage = '''SELECT f.name, COUNT(memid) AS member_use\n",
    "FROM Bookings AS b\n",
    "INNER JOIN Facilities AS f USING (facid)\n",
    "WHERE memid != 0\n",
    "GROUP BY f.name\n",
    "ORDER BY f.name'''\n",
    "\n",
    "cur.execute(usage)\n",
    "results = cur.fetchall()\n",
    "\n",
    "for result in results:\n",
    "    print(result)"
   ]
  },
  {
   "cell_type": "code",
   "execution_count": 18,
   "id": "3bb554fc",
   "metadata": {
    "scrolled": true
   },
   "outputs": [
    {
     "name": "stdout",
     "output_type": "stream",
     "text": [
      "('Badminton Court', '07', 51)\n",
      "('Massage Room 1', '07', 77)\n",
      "('Massage Room 2', '07', 4)\n",
      "('Pool Table', '07', 103)\n",
      "('Snooker Table', '07', 68)\n",
      "('Squash Court', '07', 23)\n",
      "('Table Tennis', '07', 48)\n",
      "('Tennis Court 1', '07', 65)\n",
      "('Tennis Court 2', '07', 41)\n",
      "('Badminton Court', '08', 132)\n",
      "('Massage Room 1', '08', 153)\n",
      "('Massage Room 2', '08', 9)\n",
      "('Pool Table', '08', 272)\n",
      "('Snooker Table', '08', 154)\n",
      "('Squash Court', '08', 85)\n",
      "('Table Tennis', '08', 143)\n",
      "('Tennis Court 1', '08', 111)\n",
      "('Tennis Court 2', '08', 109)\n",
      "('Badminton Court', '09', 161)\n",
      "('Massage Room 1', '09', 191)\n",
      "('Massage Room 2', '09', 14)\n",
      "('Pool Table', '09', 408)\n",
      "('Snooker Table', '09', 199)\n",
      "('Squash Court', '09', 87)\n",
      "('Table Tennis', '09', 194)\n",
      "('Tennis Court 1', '09', 132)\n",
      "('Tennis Court 2', '09', 126)\n"
     ]
    }
   ],
   "source": [
    "# Q13: Find the facilities usage by month, but not guests\n",
    "usage_month = '''SELECT f.name, strftime('%m', starttime) AS month, COUNT(memid) AS member_use\n",
    "FROM Bookings AS b\n",
    "INNER JOIN Facilities AS f USING (facid)\n",
    "WHERE memid != 0\n",
    "GROUP BY month, f.name\n",
    "ORDER BY month'''\n",
    "\n",
    "cur.execute(usage_month)\n",
    "results = cur.fetchall()\n",
    "\n",
    "for result in results:\n",
    "    print(result)\n"
   ]
  }
 ],
 "metadata": {
  "kernelspec": {
   "display_name": "Python 3",
   "language": "python",
   "name": "python3"
  },
  "language_info": {
   "codemirror_mode": {
    "name": "ipython",
    "version": 3
   },
   "file_extension": ".py",
   "mimetype": "text/x-python",
   "name": "python",
   "nbconvert_exporter": "python",
   "pygments_lexer": "ipython3",
   "version": "3.8.8"
  }
 },
 "nbformat": 4,
 "nbformat_minor": 5
}
